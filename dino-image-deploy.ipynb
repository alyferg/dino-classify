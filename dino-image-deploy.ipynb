{
 "cells": [
  {
   "cell_type": "code",
   "execution_count": 1,
   "id": "4a7e9df3",
   "metadata": {},
   "outputs": [],
   "source": [
    "#hide\n",
    "!pip install -Uqq fastbook\n",
    "!pip install -Uqq fastai duckduckgo_search\n",
    "import fastbook\n",
    "fastbook.setup_book()"
   ]
  },
  {
   "cell_type": "code",
   "execution_count": 2,
   "id": "cb3b4ced",
   "metadata": {},
   "outputs": [],
   "source": [
    "from fastbook import *\n",
    "from fastai.vision.widgets import *\n",
    "from duckduckgo_search import ddg_images\n",
    "from fastcore.all import *\n",
    "from fastdownload import download_url\n",
    "from fastai.vision.all import *\n",
    "from time import sleep"
   ]
  },
  {
   "cell_type": "code",
   "execution_count": 4,
   "id": "5b85c8b8",
   "metadata": {},
   "outputs": [],
   "source": [
    "learn_inf = load_learner('export.pkl')"
   ]
  },
  {
   "cell_type": "code",
   "execution_count": 7,
   "id": "ee6d1805",
   "metadata": {},
   "outputs": [
    {
     "data": {
      "text/html": [
       "\n",
       "<style>\n",
       "    /* Turns off some styling */\n",
       "    progress {\n",
       "        /* gets rid of default border in Firefox and Opera. */\n",
       "        border: none;\n",
       "        /* Needs to be in here for Safari polyfill so background images work as expected. */\n",
       "        background-size: auto;\n",
       "    }\n",
       "    progress:not([value]), progress:not([value])::-webkit-progress-bar {\n",
       "        background: repeating-linear-gradient(45deg, #7e7e7e, #7e7e7e 10px, #5c5c5c 10px, #5c5c5c 20px);\n",
       "    }\n",
       "    .progress-bar-interrupted, .progress-bar-interrupted::-webkit-progress-bar {\n",
       "        background: #F44336;\n",
       "    }\n",
       "</style>\n"
      ],
      "text/plain": [
       "<IPython.core.display.HTML object>"
      ]
     },
     "metadata": {},
     "output_type": "display_data"
    },
    {
     "data": {
      "text/html": [],
      "text/plain": [
       "<IPython.core.display.HTML object>"
      ]
     },
     "metadata": {},
     "output_type": "display_data"
    },
    {
     "data": {
      "text/plain": [
       "('animals',\n",
       " TensorBase(10),\n",
       " TensorBase([4.5605e-03, 4.4316e-04, 1.6629e-06, 1.3719e-04, 1.9630e-02, 6.8417e-04, 2.1664e-02, 3.9132e-05, 4.0937e-03, 6.2727e-05, 9.4868e-01]))"
      ]
     },
     "execution_count": 7,
     "metadata": {},
     "output_type": "execute_result"
    }
   ],
   "source": [
    "learn_inf.predict('animals/steg.jpg')"
   ]
  },
  {
   "cell_type": "code",
   "execution_count": 8,
   "id": "d4cdf1b9",
   "metadata": {},
   "outputs": [
    {
     "data": {
      "text/plain": [
       "['Archaeopteryx', 'Brachiosaurus', 'Gigantosaurus', 'Parasaurolophus', 'Pteradactyl', 'Spinosaurus', 'Stegosaurus', 'T-rex', 'Triceratops', 'Velociraptor', 'animals']"
      ]
     },
     "execution_count": 8,
     "metadata": {},
     "output_type": "execute_result"
    }
   ],
   "source": [
    "learn_inf.dls.vocab"
   ]
  },
  {
   "cell_type": "code",
   "execution_count": 9,
   "id": "d5660c12",
   "metadata": {},
   "outputs": [
    {
     "data": {
      "application/vnd.jupyter.widget-view+json": {
       "model_id": "e9986cae36874234a0568e4065efbb47",
       "version_major": 2,
       "version_minor": 0
      },
      "text/plain": [
       "FileUpload(value={}, description='Upload')"
      ]
     },
     "metadata": {},
     "output_type": "display_data"
    }
   ],
   "source": [
    "#hide_output\n",
    "btn_upload = widgets.FileUpload()\n",
    "btn_upload"
   ]
  },
  {
   "cell_type": "code",
   "execution_count": 14,
   "id": "c07e5b1d",
   "metadata": {},
   "outputs": [],
   "source": [
    "#hide\n",
    "# For the book, we can't actually click an upload button, so we fake it\n",
    "btn_upload = SimpleNamespace(data = ['animals/new_steg.jpg'])"
   ]
  },
  {
   "cell_type": "code",
   "execution_count": 15,
   "id": "90f5631e",
   "metadata": {},
   "outputs": [],
   "source": [
    "img = PILImage.create(btn_upload.data[-1])"
   ]
  },
  {
   "cell_type": "code",
   "execution_count": 16,
   "id": "734acca8",
   "metadata": {},
   "outputs": [
    {
     "data": {
      "application/vnd.jupyter.widget-view+json": {
       "model_id": "67c8664138fa43a9beb8215ed54b6588",
       "version_major": 2,
       "version_minor": 0
      },
      "text/plain": [
       "Output()"
      ]
     },
     "metadata": {},
     "output_type": "display_data"
    }
   ],
   "source": [
    "#hide_output\n",
    "out_pl = widgets.Output()\n",
    "out_pl.clear_output()\n",
    "with out_pl: display(img.to_thumb(128,128))\n",
    "out_pl"
   ]
  },
  {
   "cell_type": "code",
   "execution_count": 17,
   "id": "b7f94d71",
   "metadata": {},
   "outputs": [
    {
     "data": {
      "text/html": [
       "\n",
       "<style>\n",
       "    /* Turns off some styling */\n",
       "    progress {\n",
       "        /* gets rid of default border in Firefox and Opera. */\n",
       "        border: none;\n",
       "        /* Needs to be in here for Safari polyfill so background images work as expected. */\n",
       "        background-size: auto;\n",
       "    }\n",
       "    progress:not([value]), progress:not([value])::-webkit-progress-bar {\n",
       "        background: repeating-linear-gradient(45deg, #7e7e7e, #7e7e7e 10px, #5c5c5c 10px, #5c5c5c 20px);\n",
       "    }\n",
       "    .progress-bar-interrupted, .progress-bar-interrupted::-webkit-progress-bar {\n",
       "        background: #F44336;\n",
       "    }\n",
       "</style>\n"
      ],
      "text/plain": [
       "<IPython.core.display.HTML object>"
      ]
     },
     "metadata": {},
     "output_type": "display_data"
    },
    {
     "data": {
      "text/html": [],
      "text/plain": [
       "<IPython.core.display.HTML object>"
      ]
     },
     "metadata": {},
     "output_type": "display_data"
    },
    {
     "data": {
      "text/plain": [
       "'Stegosaurus'"
      ]
     },
     "execution_count": 17,
     "metadata": {},
     "output_type": "execute_result"
    }
   ],
   "source": [
    "pred,pred_idx,probs = learn_inf.predict(img)\n",
    "pred"
   ]
  },
  {
   "cell_type": "code",
   "execution_count": 18,
   "id": "3a19ccbf",
   "metadata": {},
   "outputs": [
    {
     "data": {
      "application/vnd.jupyter.widget-view+json": {
       "model_id": "9b030170c01e4bc69a4daf21f14dd9ce",
       "version_major": 2,
       "version_minor": 0
      },
      "text/plain": [
       "Label(value='Prediction: Stegosaurus; Probability: 1.0000')"
      ]
     },
     "metadata": {},
     "output_type": "display_data"
    }
   ],
   "source": [
    "#hide_output\n",
    "lbl_pred = widgets.Label()\n",
    "lbl_pred.value = f'Prediction: {pred}; Probability: {probs[pred_idx]:.04f}'\n",
    "lbl_pred"
   ]
  },
  {
   "cell_type": "code",
   "execution_count": 19,
   "id": "453e53b9",
   "metadata": {},
   "outputs": [
    {
     "data": {
      "application/vnd.jupyter.widget-view+json": {
       "model_id": "9ec14eb2d4384bce8acce723ed36f0f6",
       "version_major": 2,
       "version_minor": 0
      },
      "text/plain": [
       "Button(description='Classify', style=ButtonStyle())"
      ]
     },
     "metadata": {},
     "output_type": "display_data"
    }
   ],
   "source": [
    "#hide_output\n",
    "btn_run = widgets.Button(description='Classify')\n",
    "btn_run"
   ]
  },
  {
   "cell_type": "code",
   "execution_count": 20,
   "id": "3bb2cc80",
   "metadata": {},
   "outputs": [],
   "source": [
    "def on_click_classify(change):\n",
    "    img = PILImage.create(btn_upload.data[-1])\n",
    "    out_pl.clear_output()\n",
    "    with out_pl: display(img.to_thumb(128,128))\n",
    "    pred,pred_idx,probs = learn_inf.predict(img)\n",
    "    lbl_pred.value = f'Prediction: {pred}; Probability: {probs[pred_idx]:.04f}'\n",
    "\n",
    "btn_run.on_click(on_click_classify)"
   ]
  },
  {
   "cell_type": "code",
   "execution_count": 21,
   "id": "f4e8a16c",
   "metadata": {},
   "outputs": [],
   "source": [
    "#hide\n",
    "#Putting back btn_upload to a widget for next cell\n",
    "btn_upload = widgets.FileUpload()"
   ]
  },
  {
   "cell_type": "code",
   "execution_count": 22,
   "id": "3c0cb013",
   "metadata": {},
   "outputs": [
    {
     "data": {
      "application/vnd.jupyter.widget-view+json": {
       "model_id": "fa507c2a42b5458199edbc1348c877ed",
       "version_major": 2,
       "version_minor": 0
      },
      "text/plain": [
       "VBox(children=(Label(value='Select your bear!'), FileUpload(value={}, description='Upload'), Button(descriptio…"
      ]
     },
     "metadata": {},
     "output_type": "display_data"
    },
    {
     "data": {
      "text/html": [
       "\n",
       "<style>\n",
       "    /* Turns off some styling */\n",
       "    progress {\n",
       "        /* gets rid of default border in Firefox and Opera. */\n",
       "        border: none;\n",
       "        /* Needs to be in here for Safari polyfill so background images work as expected. */\n",
       "        background-size: auto;\n",
       "    }\n",
       "    progress:not([value]), progress:not([value])::-webkit-progress-bar {\n",
       "        background: repeating-linear-gradient(45deg, #7e7e7e, #7e7e7e 10px, #5c5c5c 10px, #5c5c5c 20px);\n",
       "    }\n",
       "    .progress-bar-interrupted, .progress-bar-interrupted::-webkit-progress-bar {\n",
       "        background: #F44336;\n",
       "    }\n",
       "</style>\n"
      ],
      "text/plain": [
       "<IPython.core.display.HTML object>"
      ]
     },
     "metadata": {},
     "output_type": "display_data"
    },
    {
     "data": {
      "text/html": [],
      "text/plain": [
       "<IPython.core.display.HTML object>"
      ]
     },
     "metadata": {},
     "output_type": "display_data"
    }
   ],
   "source": [
    "#hide_output\n",
    "VBox([widgets.Label('Select your bear!'), \n",
    "      btn_upload, btn_run, out_pl, lbl_pred])"
   ]
  },
  {
   "cell_type": "code",
   "execution_count": 23,
   "id": "c07d8432",
   "metadata": {},
   "outputs": [
    {
     "name": "stdout",
     "output_type": "stream",
     "text": [
      "Requirement already satisfied: voila in ./mynotebookenv/lib/python3.9/site-packages (0.4.0)\n",
      "Requirement already satisfied: jupyter-client<=7.4.1,>=6.1.3 in ./mynotebookenv/lib/python3.9/site-packages (from voila) (7.3.5)\n",
      "Requirement already satisfied: nbconvert<8,>=6.4.5 in ./mynotebookenv/lib/python3.9/site-packages (from voila) (7.0.0)\n",
      "Requirement already satisfied: jupyterlab-server<3,>=2.3.0 in ./mynotebookenv/lib/python3.9/site-packages (from voila) (2.16.3)\n",
      "Requirement already satisfied: nbclient<0.8,>=0.4.0 in ./mynotebookenv/lib/python3.9/site-packages (from voila) (0.6.7)\n",
      "Requirement already satisfied: jupyter-server<2.0.0,>=1.18 in ./mynotebookenv/lib/python3.9/site-packages (from voila) (1.21.0)\n",
      "Requirement already satisfied: jupyter-core>=4.11.0 in ./mynotebookenv/lib/python3.9/site-packages (from voila) (4.11.1)\n",
      "Requirement already satisfied: websockets>=9.0 in ./mynotebookenv/lib/python3.9/site-packages (from voila) (10.4)\n",
      "Requirement already satisfied: traitlets<6,>=5.0.3 in ./mynotebookenv/lib/python3.9/site-packages (from voila) (5.3.0)\n",
      "Requirement already satisfied: pyzmq>=23.0 in ./mynotebookenv/lib/python3.9/site-packages (from jupyter-client<=7.4.1,>=6.1.3->voila) (23.2.1)\n",
      "Requirement already satisfied: nest-asyncio>=1.5.4 in ./mynotebookenv/lib/python3.9/site-packages (from jupyter-client<=7.4.1,>=6.1.3->voila) (1.5.5)\n",
      "Requirement already satisfied: tornado>=6.2 in ./mynotebookenv/lib/python3.9/site-packages (from jupyter-client<=7.4.1,>=6.1.3->voila) (6.2)\n",
      "Requirement already satisfied: entrypoints in ./mynotebookenv/lib/python3.9/site-packages (from jupyter-client<=7.4.1,>=6.1.3->voila) (0.4)\n",
      "Requirement already satisfied: python-dateutil>=2.8.2 in ./mynotebookenv/lib/python3.9/site-packages (from jupyter-client<=7.4.1,>=6.1.3->voila) (2.8.2)\n",
      "Requirement already satisfied: nbformat>=5.2.0 in ./mynotebookenv/lib/python3.9/site-packages (from jupyter-server<2.0.0,>=1.18->voila) (5.4.0)\n",
      "Requirement already satisfied: terminado>=0.8.3 in ./mynotebookenv/lib/python3.9/site-packages (from jupyter-server<2.0.0,>=1.18->voila) (0.15.0)\n",
      "Requirement already satisfied: anyio<4,>=3.1.0 in ./mynotebookenv/lib/python3.9/site-packages (from jupyter-server<2.0.0,>=1.18->voila) (3.6.2)\n",
      "Requirement already satisfied: prometheus-client in ./mynotebookenv/lib/python3.9/site-packages (from jupyter-server<2.0.0,>=1.18->voila) (0.14.1)\n",
      "Requirement already satisfied: jinja2 in ./mynotebookenv/lib/python3.9/site-packages (from jupyter-server<2.0.0,>=1.18->voila) (3.1.2)\n",
      "Requirement already satisfied: Send2Trash in ./mynotebookenv/lib/python3.9/site-packages (from jupyter-server<2.0.0,>=1.18->voila) (1.8.0)\n",
      "Requirement already satisfied: websocket-client in ./mynotebookenv/lib/python3.9/site-packages (from jupyter-server<2.0.0,>=1.18->voila) (1.4.1)\n",
      "Requirement already satisfied: argon2-cffi in ./mynotebookenv/lib/python3.9/site-packages (from jupyter-server<2.0.0,>=1.18->voila) (21.3.0)\n",
      "Requirement already satisfied: packaging in ./mynotebookenv/lib/python3.9/site-packages (from jupyter-server<2.0.0,>=1.18->voila) (21.3)\n",
      "Requirement already satisfied: json5 in ./mynotebookenv/lib/python3.9/site-packages (from jupyterlab-server<3,>=2.3.0->voila) (0.9.10)\n",
      "Requirement already satisfied: requests in ./mynotebookenv/lib/python3.9/site-packages (from jupyterlab-server<3,>=2.3.0->voila) (2.28.1)\n",
      "Requirement already satisfied: babel in ./mynotebookenv/lib/python3.9/site-packages (from jupyterlab-server<3,>=2.3.0->voila) (2.11.0)\n",
      "Requirement already satisfied: importlib-metadata>=4.8.3 in ./mynotebookenv/lib/python3.9/site-packages (from jupyterlab-server<3,>=2.3.0->voila) (4.12.0)\n",
      "Requirement already satisfied: jsonschema>=3.0.1 in ./mynotebookenv/lib/python3.9/site-packages (from jupyterlab-server<3,>=2.3.0->voila) (4.15.0)\n",
      "Requirement already satisfied: pygments>=2.4.1 in ./mynotebookenv/lib/python3.9/site-packages (from nbconvert<8,>=6.4.5->voila) (2.13.0)\n",
      "Requirement already satisfied: tinycss2 in ./mynotebookenv/lib/python3.9/site-packages (from nbconvert<8,>=6.4.5->voila) (1.1.1)\n",
      "Requirement already satisfied: mistune<3,>=2.0.3 in ./mynotebookenv/lib/python3.9/site-packages (from nbconvert<8,>=6.4.5->voila) (2.0.4)\n",
      "Requirement already satisfied: pandocfilters>=1.4.1 in ./mynotebookenv/lib/python3.9/site-packages (from nbconvert<8,>=6.4.5->voila) (1.5.0)\n",
      "Requirement already satisfied: beautifulsoup4 in ./mynotebookenv/lib/python3.9/site-packages (from nbconvert<8,>=6.4.5->voila) (4.11.1)\n",
      "Requirement already satisfied: markupsafe>=2.0 in ./mynotebookenv/lib/python3.9/site-packages (from nbconvert<8,>=6.4.5->voila) (2.1.1)\n",
      "Requirement already satisfied: bleach in ./mynotebookenv/lib/python3.9/site-packages (from nbconvert<8,>=6.4.5->voila) (5.0.1)\n",
      "Requirement already satisfied: jupyterlab-pygments in ./mynotebookenv/lib/python3.9/site-packages (from nbconvert<8,>=6.4.5->voila) (0.2.2)\n",
      "Requirement already satisfied: defusedxml in ./mynotebookenv/lib/python3.9/site-packages (from nbconvert<8,>=6.4.5->voila) (0.7.1)\n",
      "Requirement already satisfied: lxml in ./mynotebookenv/lib/python3.9/site-packages (from nbconvert<8,>=6.4.5->voila) (4.9.1)\n",
      "Requirement already satisfied: idna>=2.8 in ./mynotebookenv/lib/python3.9/site-packages (from anyio<4,>=3.1.0->jupyter-server<2.0.0,>=1.18->voila) (3.4)\n",
      "Requirement already satisfied: sniffio>=1.1 in ./mynotebookenv/lib/python3.9/site-packages (from anyio<4,>=3.1.0->jupyter-server<2.0.0,>=1.18->voila) (1.3.0)\n",
      "Requirement already satisfied: zipp>=0.5 in ./mynotebookenv/lib/python3.9/site-packages (from importlib-metadata>=4.8.3->jupyterlab-server<3,>=2.3.0->voila) (3.8.1)\n",
      "Requirement already satisfied: pyrsistent!=0.17.0,!=0.17.1,!=0.17.2,>=0.14.0 in ./mynotebookenv/lib/python3.9/site-packages (from jsonschema>=3.0.1->jupyterlab-server<3,>=2.3.0->voila) (0.18.1)\n",
      "Requirement already satisfied: attrs>=17.4.0 in ./mynotebookenv/lib/python3.9/site-packages (from jsonschema>=3.0.1->jupyterlab-server<3,>=2.3.0->voila) (22.1.0)\n",
      "Requirement already satisfied: fastjsonschema in ./mynotebookenv/lib/python3.9/site-packages (from nbformat>=5.2.0->jupyter-server<2.0.0,>=1.18->voila) (2.16.1)\n",
      "Requirement already satisfied: six>=1.5 in ./mynotebookenv/lib/python3.9/site-packages (from python-dateutil>=2.8.2->jupyter-client<=7.4.1,>=6.1.3->voila) (1.16.0)\n",
      "Requirement already satisfied: ptyprocess in ./mynotebookenv/lib/python3.9/site-packages (from terminado>=0.8.3->jupyter-server<2.0.0,>=1.18->voila) (0.7.0)\n",
      "Requirement already satisfied: argon2-cffi-bindings in ./mynotebookenv/lib/python3.9/site-packages (from argon2-cffi->jupyter-server<2.0.0,>=1.18->voila) (21.2.0)\n",
      "Requirement already satisfied: pytz>=2015.7 in ./mynotebookenv/lib/python3.9/site-packages (from babel->jupyterlab-server<3,>=2.3.0->voila) (2022.2.1)\n",
      "Requirement already satisfied: soupsieve>1.2 in ./mynotebookenv/lib/python3.9/site-packages (from beautifulsoup4->nbconvert<8,>=6.4.5->voila) (2.3.2.post1)\n",
      "Requirement already satisfied: webencodings in ./mynotebookenv/lib/python3.9/site-packages (from bleach->nbconvert<8,>=6.4.5->voila) (0.5.1)\n",
      "Requirement already satisfied: pyparsing!=3.0.5,>=2.0.2 in ./mynotebookenv/lib/python3.9/site-packages (from packaging->jupyter-server<2.0.0,>=1.18->voila) (3.0.9)\n",
      "Requirement already satisfied: urllib3<1.27,>=1.21.1 in ./mynotebookenv/lib/python3.9/site-packages (from requests->jupyterlab-server<3,>=2.3.0->voila) (1.26.12)\n",
      "Requirement already satisfied: charset-normalizer<3,>=2 in ./mynotebookenv/lib/python3.9/site-packages (from requests->jupyterlab-server<3,>=2.3.0->voila) (2.1.1)\n",
      "Requirement already satisfied: certifi>=2017.4.17 in ./mynotebookenv/lib/python3.9/site-packages (from requests->jupyterlab-server<3,>=2.3.0->voila) (2022.9.24)\n",
      "Requirement already satisfied: cffi>=1.0.1 in ./mynotebookenv/lib/python3.9/site-packages (from argon2-cffi-bindings->argon2-cffi->jupyter-server<2.0.0,>=1.18->voila) (1.15.1)\n",
      "Requirement already satisfied: pycparser in ./mynotebookenv/lib/python3.9/site-packages (from cffi>=1.0.1->argon2-cffi-bindings->argon2-cffi->jupyter-server<2.0.0,>=1.18->voila) (2.21)\n",
      "Enabling: voila\n",
      "- Writing config: /home/alasdair/Data/mynotebookenv/etc/jupyter\n",
      "    - Validating...\n",
      "      voila 0.4.0 \u001b[32mOK\u001b[0m\n"
     ]
    }
   ],
   "source": [
    "#hide\n",
    "!pip install voila\n",
    "!jupyter serverextension enable --sys-prefix voila "
   ]
  },
  {
   "cell_type": "code",
   "execution_count": null,
   "id": "af1f8c54",
   "metadata": {},
   "outputs": [],
   "source": []
  },
  {
   "cell_type": "code",
   "execution_count": null,
   "id": "c252ef2d",
   "metadata": {},
   "outputs": [],
   "source": []
  },
  {
   "cell_type": "code",
   "execution_count": null,
   "id": "5a535435",
   "metadata": {},
   "outputs": [],
   "source": []
  },
  {
   "cell_type": "code",
   "execution_count": null,
   "id": "c1001fa8",
   "metadata": {},
   "outputs": [],
   "source": []
  }
 ],
 "metadata": {
  "kernelspec": {
   "display_name": "Python 3 (ipykernel)",
   "language": "python",
   "name": "python3"
  },
  "language_info": {
   "codemirror_mode": {
    "name": "ipython",
    "version": 3
   },
   "file_extension": ".py",
   "mimetype": "text/x-python",
   "name": "python",
   "nbconvert_exporter": "python",
   "pygments_lexer": "ipython3",
   "version": "3.9.2"
  }
 },
 "nbformat": 4,
 "nbformat_minor": 5
}
